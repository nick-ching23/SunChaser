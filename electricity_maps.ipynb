{
 "cells": [
  {
   "cell_type": "code",
   "execution_count": 2,
   "metadata": {},
   "outputs": [],
   "source": [
    "import requests"
   ]
  },
  {
   "cell_type": "code",
   "execution_count": null,
   "metadata": {},
   "outputs": [
    {
     "name": "stdout",
     "output_type": "stream",
     "text": [
      "279g Co2eq/kW\n"
     ]
    }
   ],
   "source": [
    "# ERCOT - Texas\n",
    "response = requests.get(\n",
    "    \"https://api.electricitymap.org/v3/carbon-intensity/latest?zone=US-TEX-ERCO\",\n",
    "    headers={\"auth-token\": f\"pjNv2UzTRbP8JXRMN26n\"},\n",
    ")\n",
    "\n",
    "carbon_data = response.json()\n",
    "\n",
    "print(str(carbon_data[\"carbonIntensity\"]) + \"g Co2eq/kW\")"
   ]
  },
  {
   "cell_type": "code",
   "execution_count": 14,
   "metadata": {},
   "outputs": [
    {
     "name": "stdout",
     "output_type": "stream",
     "text": [
      "682g Co2eq/kW\n"
     ]
    }
   ],
   "source": [
    "# South Carolina Public Service Authority (Charleston SC)\n",
    "\n",
    "response = requests.get(\n",
    "    \"https://api.electricitymap.org/v3/carbon-intensity/latest?zone=US-CAR-SC\",\n",
    "    headers={\"auth-token\": f\"THa7vuk5iCJXlAJ1k9Pt\"},\n",
    ")\n",
    "\n",
    "carbon_data = response.json()\n",
    "\n",
    "print(str(carbon_data[\"carbonIntensity\"]) + \"g Co2eq/kW\")"
   ]
  },
  {
   "cell_type": "code",
   "execution_count": 15,
   "metadata": {},
   "outputs": [
    {
     "name": "stdout",
     "output_type": "stream",
     "text": [
      "81g Co2eq/kW\n"
     ]
    }
   ],
   "source": [
    "# Bonneville power station (Portland Oregon)\n",
    "\n",
    "response = requests.get(\n",
    "    \"https://api.electricitymap.org/v3/carbon-intensity/latest?zone=US-NW-BPAT\",\n",
    "    headers={\"auth-token\": f\"Ksa4UyL3ywuJ81v0Mpyx\"},\n",
    ")\n",
    "\n",
    "carbon_data = response.json()\n",
    "\n",
    "print(str(carbon_data[\"carbonIntensity\"]) + \"g Co2eq/kW\")"
   ]
  },
  {
   "cell_type": "code",
   "execution_count": null,
   "metadata": {},
   "outputs": [],
   "source": []
  }
 ],
 "metadata": {
  "kernelspec": {
   "display_name": "venv",
   "language": "python",
   "name": "python3"
  },
  "language_info": {
   "codemirror_mode": {
    "name": "ipython",
    "version": 3
   },
   "file_extension": ".py",
   "mimetype": "text/x-python",
   "name": "python",
   "nbconvert_exporter": "python",
   "pygments_lexer": "ipython3",
   "version": "3.11.0"
  }
 },
 "nbformat": 4,
 "nbformat_minor": 2
}
